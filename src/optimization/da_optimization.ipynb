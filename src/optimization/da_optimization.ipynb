{
 "cells": [
  {
   "cell_type": "code",
   "execution_count": 7,
   "metadata": {},
   "outputs": [],
   "source": [
    "import pandas as pd\n",
    "import sys\n",
    "sys.path.append('/home/kehan-vm/Projects/interesting/power_market_analysis/power_market_analysis/src')\n",
    "from algorithms.battery_optimize import battery_optimisation\n",
    "\n",
    "def optimize_battery_operation_every_week(\n",
    "    da_price_data,\n",
    "    max_battery_capacity,\n",
    "    initial_capacity,\n",
    "    end_capacity,\n",
    "    max_battery_power,\n",
    "    efficiency,\n",
    "    daily_max_charging_circles,\n",
    "    include_revenue,\n",
    "    solver='glpk'\n",
    "):\n",
    "    \"\"\"\n",
    "    Optimise the battery operation for every week in the given data\n",
    "    \"\"\"\n",
    "    # Convert datetime to datetime64[ns]\n",
    "    da_price_data['datetime'] = da_price_data['datetime'].astype('datetime64[ns]')\n",
    "    \n",
    "    # Group by week\n",
    "    da_price_data['year'] = da_price_data['datetime'].dt.year\n",
    "    da_price_data['week'] = da_price_data['datetime'].dt.isocalendar().week\n",
    "\n",
    "    # Optimise for each week for every year\n",
    "    for year in da_price_data['year'].unique():\n",
    "        year_data = da_price_data[da_price_data['year'] == year]\n",
    "        total_yearly_result_df = pd.DataFrame()\n",
    "        for week in year_data['week'].unique():\n",
    "            week_data = year_data[year_data['week'] == week]\n",
    "            result = battery_optimisation(\n",
    "                week_data['datetime'], \n",
    "                week_data['da_price'], \n",
    "                max_battery_capacity=max_battery_capacity,\n",
    "                initial_capacity=initial_capacity,\n",
    "                end_capacity=end_capacity,\n",
    "                max_battery_power=max_battery_power,\n",
    "                efficiency=efficiency,\n",
    "                daily_max_charging_circles=daily_max_charging_circles,\n",
    "                include_revenue=include_revenue,    \n",
    "                solver=solver\n",
    "            )\n",
    "            result.to_csv(f'/home/kehan-vm/Projects/interesting/power_market_analysis/power_market_analysis/data/optimization/da_optimization/weekly_optimization/battery_operation_{year}_{week}.csv', index=False)\n",
    "            revenue = result['revenue'].sum()\n",
    "            print(f'Year: {year}, Week: {week}, Revenue: {revenue}')\n",
    "            total_yearly_result_df = pd.concat([total_yearly_result_df, result])\n",
    "        total_yearly_result_df.to_csv(f'/home/kehan-vm/Projects/interesting/power_market_analysis/power_market_analysis/data/optimization/da_optimization/yearly_optimization/battery_operation_{year}.csv', index=False)"
   ]
  },
  {
   "cell_type": "code",
   "execution_count": 8,
   "metadata": {},
   "outputs": [],
   "source": [
    "da_price_2024 = pd.read_csv('/home/kehan-vm/Projects/interesting/power_market_analysis/power_market_analysis/data/processed/day_ahead/da_price_2024.csv')\n",
    "da_price_2024.datetime = pd.to_datetime(da_price_2024.datetime)"
   ]
  },
  {
   "cell_type": "code",
   "execution_count": 9,
   "metadata": {},
   "outputs": [
    {
     "data": {
      "text/html": [
       "<div>\n",
       "<style scoped>\n",
       "    .dataframe tbody tr th:only-of-type {\n",
       "        vertical-align: middle;\n",
       "    }\n",
       "\n",
       "    .dataframe tbody tr th {\n",
       "        vertical-align: top;\n",
       "    }\n",
       "\n",
       "    .dataframe thead th {\n",
       "        text-align: right;\n",
       "    }\n",
       "</style>\n",
       "<table border=\"1\" class=\"dataframe\">\n",
       "  <thead>\n",
       "    <tr style=\"text-align: right;\">\n",
       "      <th></th>\n",
       "      <th>datetime</th>\n",
       "      <th>da_price</th>\n",
       "    </tr>\n",
       "  </thead>\n",
       "  <tbody>\n",
       "    <tr>\n",
       "      <th>0</th>\n",
       "      <td>2024-01-01 00:00:00</td>\n",
       "      <td>39.91</td>\n",
       "    </tr>\n",
       "    <tr>\n",
       "      <th>1</th>\n",
       "      <td>2024-01-01 00:15:00</td>\n",
       "      <td>-0.04</td>\n",
       "    </tr>\n",
       "    <tr>\n",
       "      <th>2</th>\n",
       "      <td>2024-01-01 00:30:00</td>\n",
       "      <td>-9.01</td>\n",
       "    </tr>\n",
       "    <tr>\n",
       "      <th>3</th>\n",
       "      <td>2024-01-01 00:45:00</td>\n",
       "      <td>-29.91</td>\n",
       "    </tr>\n",
       "    <tr>\n",
       "      <th>4</th>\n",
       "      <td>2024-01-01 01:00:00</td>\n",
       "      <td>25.28</td>\n",
       "    </tr>\n",
       "  </tbody>\n",
       "</table>\n",
       "</div>"
      ],
      "text/plain": [
       "             datetime  da_price\n",
       "0 2024-01-01 00:00:00     39.91\n",
       "1 2024-01-01 00:15:00     -0.04\n",
       "2 2024-01-01 00:30:00     -9.01\n",
       "3 2024-01-01 00:45:00    -29.91\n",
       "4 2024-01-01 01:00:00     25.28"
      ]
     },
     "execution_count": 9,
     "metadata": {},
     "output_type": "execute_result"
    }
   ],
   "source": [
    "da_price_2024.head()"
   ]
  },
  {
   "cell_type": "code",
   "execution_count": 10,
   "metadata": {},
   "outputs": [
    {
     "name": "stdout",
     "output_type": "stream",
     "text": [
      "Year: 2024, Week: 1, Revenue: 2586.5025720394733\n",
      "Year: 2024, Week: 2, Revenue: 1824.6714891447368\n",
      "Year: 2024, Week: 3, Revenue: 2093.105540131579\n",
      "Year: 2024, Week: 4, Revenue: 2055.110385526316\n",
      "Year: 2024, Week: 5, Revenue: 1597.324675986842\n",
      "Year: 2024, Week: 6, Revenue: 1656.6140934210525\n",
      "Year: 2024, Week: 7, Revenue: 1552.815239144737\n",
      "Year: 2024, Week: 8, Revenue: 1864.6515167763157\n",
      "Year: 2024, Week: 9, Revenue: 1692.248907565789\n",
      "Year: 2024, Week: 10, Revenue: 1710.9867309210524\n",
      "Year: 2024, Week: 11, Revenue: 1830.9844881578947\n",
      "Year: 2024, Week: 12, Revenue: 1967.6035398026315\n",
      "Year: 2024, Week: 13, Revenue: 2737.5208628289474\n",
      "Year: 2024, Week: 14, Revenue: 2561.3714375\n",
      "Year: 2024, Week: 15, Revenue: 3498.228976315789\n",
      "Year: 2024, Week: 16, Revenue: 2838.289664473684\n",
      "Year: 2024, Week: 17, Revenue: 2868.583496710526\n",
      "Year: 2024, Week: 18, Revenue: 3571.438254605263\n",
      "Year: 2024, Week: 19, Revenue: 3138.5919427631575\n",
      "Year: 2024, Week: 20, Revenue: 3587.663293421053\n",
      "Year: 2024, Week: 21, Revenue: 2979.055783881579\n",
      "Year: 2024, Week: 22, Revenue: 2348.9416618421055\n",
      "Year: 2024, Week: 23, Revenue: 3785.1380503289474\n",
      "Year: 2024, Week: 24, Revenue: 3365.1747388157896\n",
      "Year: 2024, Week: 25, Revenue: 3622.421444736842\n",
      "Year: 2024, Week: 26, Revenue: 4079.1667555921053\n",
      "Year: 2024, Week: 27, Revenue: 3535.7129266447364\n",
      "Year: 2024, Week: 28, Revenue: 4034.460389802631\n",
      "Year: 2024, Week: 29, Revenue: 4004.1239171052625\n",
      "Year: 2024, Week: 30, Revenue: 3434.1813131578947\n",
      "Year: 2024, Week: 31, Revenue: 3268.9033674342104\n",
      "Year: 2024, Week: 32, Revenue: 3616.404328947368\n",
      "Year: 2024, Week: 33, Revenue: 3256.6298444078943\n",
      "Year: 2024, Week: 34, Revenue: 3807.323253618421\n",
      "Year: 2024, Week: 35, Revenue: 4120.631230592105\n",
      "Year: 2024, Week: 36, Revenue: 3627.518250986842\n",
      "Year: 2024, Week: 37, Revenue: 2887.8101184210523\n",
      "Year: 2024, Week: 38, Revenue: 3415.1788374999996\n",
      "Year: 2024, Week: 39, Revenue: 3274.6159874999994\n",
      "Year: 2024, Week: 40, Revenue: 2614.3976733552627\n",
      "Year: 2024, Week: 41, Revenue: 2941.3031536184208\n",
      "Year: 2024, Week: 42, Revenue: 3107.3810546052628\n",
      "Year: 2024, Week: 43, Revenue: 2959.5848753289474\n",
      "Year: 2024, Week: 44, Revenue: 2324.8207792763155\n",
      "Year: 2024, Week: 45, Revenue: 5310.851623026316\n",
      "Year: 2024, Week: 46, Revenue: 2618.443774342105\n",
      "Year: 2024, Week: 47, Revenue: 2275.1360710526315\n",
      "Year: 2024, Week: 48, Revenue: 2097.2717490131577\n",
      "Year: 2024, Week: 49, Revenue: 1901.9699134868417\n",
      "Year: 2024, Week: 50, Revenue: 5236.735892105264\n",
      "Year: 2024, Week: 51, Revenue: 1707.3315605263156\n",
      "Year: 2024, Week: 52, Revenue: 1588.2110638157894\n"
     ]
    }
   ],
   "source": [
    "optimize_battery_operation_every_week(\n",
    "    da_price_2024,\n",
    "    max_battery_capacity=2,\n",
    "    initial_capacity=1, \n",
    "    end_capacity=1,\n",
    "    max_battery_power=1,\n",
    "    efficiency=0.95,\n",
    "    daily_max_charging_circles=20000000,\n",
    "    include_revenue=True,\n",
    "    solver='glpk')"
   ]
  },
  {
   "cell_type": "code",
   "execution_count": 12,
   "metadata": {},
   "outputs": [
    {
     "data": {
      "text/plain": [
       "np.float64(150381.13849210527)"
      ]
     },
     "execution_count": 12,
     "metadata": {},
     "output_type": "execute_result"
    }
   ],
   "source": [
    "df_2024_revenue = pd.read_csv('/home/kehan-vm/Projects/interesting/power_market_analysis/power_market_analysis/data/optimization/da_optimization/yearly_optimization/battery_operation_2024.csv')\n",
    "df_2024_revenue.head()\n",
    "df_2024_revenue.revenue.sum()"
   ]
  },
  {
   "cell_type": "code",
   "execution_count": 13,
   "metadata": {},
   "outputs": [],
   "source": [
    "df_2024_first_half = df_2024_revenue[df_2024_revenue.datetime < '2024-07-01']"
   ]
  },
  {
   "cell_type": "code",
   "execution_count": 14,
   "metadata": {},
   "outputs": [
    {
     "data": {
      "text/plain": [
       "np.float64(66897.63078421052)"
      ]
     },
     "execution_count": 14,
     "metadata": {},
     "output_type": "execute_result"
    }
   ],
   "source": [
    "df_2024_first_half.revenue.sum()"
   ]
  },
  {
   "cell_type": "code",
   "execution_count": 19,
   "metadata": {},
   "outputs": [
    {
     "data": {
      "text/html": [
       "<div>\n",
       "<style scoped>\n",
       "    .dataframe tbody tr th:only-of-type {\n",
       "        vertical-align: middle;\n",
       "    }\n",
       "\n",
       "    .dataframe tbody tr th {\n",
       "        vertical-align: top;\n",
       "    }\n",
       "\n",
       "    .dataframe thead th {\n",
       "        text-align: right;\n",
       "    }\n",
       "</style>\n",
       "<table border=\"1\" class=\"dataframe\">\n",
       "  <thead>\n",
       "    <tr style=\"text-align: right;\">\n",
       "      <th></th>\n",
       "      <th>datetime</th>\n",
       "      <th>spot_price</th>\n",
       "      <th>power</th>\n",
       "      <th>market_dispatch</th>\n",
       "      <th>opening_capacity</th>\n",
       "      <th>revenue</th>\n",
       "    </tr>\n",
       "  </thead>\n",
       "  <tbody>\n",
       "    <tr>\n",
       "      <th>0</th>\n",
       "      <td>2024-01-01 00:00:00</td>\n",
       "      <td>39.91</td>\n",
       "      <td>1.0</td>\n",
       "      <td>0.2375</td>\n",
       "      <td>1.0000</td>\n",
       "      <td>9.478625</td>\n",
       "    </tr>\n",
       "    <tr>\n",
       "      <th>1</th>\n",
       "      <td>2024-01-01 00:15:00</td>\n",
       "      <td>-0.04</td>\n",
       "      <td>0.0</td>\n",
       "      <td>0.0000</td>\n",
       "      <td>0.7500</td>\n",
       "      <td>-0.000000</td>\n",
       "    </tr>\n",
       "    <tr>\n",
       "      <th>2</th>\n",
       "      <td>2024-01-01 00:30:00</td>\n",
       "      <td>-9.01</td>\n",
       "      <td>0.0</td>\n",
       "      <td>0.0000</td>\n",
       "      <td>0.7500</td>\n",
       "      <td>-0.000000</td>\n",
       "    </tr>\n",
       "    <tr>\n",
       "      <th>3</th>\n",
       "      <td>2024-01-01 00:45:00</td>\n",
       "      <td>-29.91</td>\n",
       "      <td>-1.0</td>\n",
       "      <td>-0.2500</td>\n",
       "      <td>0.7500</td>\n",
       "      <td>7.477500</td>\n",
       "    </tr>\n",
       "    <tr>\n",
       "      <th>4</th>\n",
       "      <td>2024-01-01 01:00:00</td>\n",
       "      <td>25.28</td>\n",
       "      <td>1.0</td>\n",
       "      <td>0.2375</td>\n",
       "      <td>0.9875</td>\n",
       "      <td>6.004000</td>\n",
       "    </tr>\n",
       "  </tbody>\n",
       "</table>\n",
       "</div>"
      ],
      "text/plain": [
       "              datetime  spot_price  power  market_dispatch  opening_capacity  \\\n",
       "0  2024-01-01 00:00:00       39.91    1.0           0.2375            1.0000   \n",
       "1  2024-01-01 00:15:00       -0.04    0.0           0.0000            0.7500   \n",
       "2  2024-01-01 00:30:00       -9.01    0.0           0.0000            0.7500   \n",
       "3  2024-01-01 00:45:00      -29.91   -1.0          -0.2500            0.7500   \n",
       "4  2024-01-01 01:00:00       25.28    1.0           0.2375            0.9875   \n",
       "\n",
       "    revenue  \n",
       "0  9.478625  \n",
       "1 -0.000000  \n",
       "2 -0.000000  \n",
       "3  7.477500  \n",
       "4  6.004000  "
      ]
     },
     "execution_count": 19,
     "metadata": {},
     "output_type": "execute_result"
    }
   ],
   "source": [
    "df_2024_revenue.head()"
   ]
  },
  {
   "cell_type": "code",
   "execution_count": 15,
   "metadata": {},
   "outputs": [
    {
     "name": "stdout",
     "output_type": "stream",
     "text": [
      "total circles:  1430.4684374999997\n"
     ]
    }
   ],
   "source": [
    "circles = df_2024_revenue[df_2024_revenue['market_dispatch'] > 0].market_dispatch.sum()/2\n",
    "print('total circles: ', circles)"
   ]
  },
  {
   "cell_type": "code",
   "execution_count": null,
   "metadata": {},
   "outputs": [],
   "source": []
  }
 ],
 "metadata": {
  "kernelspec": {
   "display_name": "myenv",
   "language": "python",
   "name": "python3"
  },
  "language_info": {
   "codemirror_mode": {
    "name": "ipython",
    "version": 3
   },
   "file_extension": ".py",
   "mimetype": "text/x-python",
   "name": "python",
   "nbconvert_exporter": "python",
   "pygments_lexer": "ipython3",
   "version": "3.12.10"
  }
 },
 "nbformat": 4,
 "nbformat_minor": 2
}
