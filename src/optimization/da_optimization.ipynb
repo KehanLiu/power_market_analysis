{
 "cells": [
  {
   "cell_type": "code",
   "execution_count": 1,
   "metadata": {},
   "outputs": [],
   "source": [
    "import pandas as pd\n",
    "import sys\n",
    "sys.path.append('/home/kehan-vm/Projects/interesting/power_market_analysis/power_market_analysis/src')\n",
    "from algorithms.battery_optimize import battery_optimisation\n",
    "\n",
    "def optimize_battery_operation_every_week(\n",
    "    da_price_data,\n",
    "    max_battery_capacity,\n",
    "    initial_capacity,\n",
    "    end_capacity,\n",
    "    max_battery_power,\n",
    "    efficiency,\n",
    "    daily_max_charging_circles,\n",
    "    include_revenue,\n",
    "    solver='glpk'\n",
    "):\n",
    "    \"\"\"\n",
    "    Optimise the battery operation for every week in the given data\n",
    "    \"\"\"\n",
    "    # Convert datetime to datetime64[ns]\n",
    "    da_price_data['datetime'] = da_price_data['datetime'].astype('datetime64[ns]')\n",
    "    \n",
    "    # Group by week\n",
    "    da_price_data['year'] = da_price_data['datetime'].dt.year\n",
    "    da_price_data['week'] = da_price_data['datetime'].dt.isocalendar().week\n",
    "\n",
    "    # Optimise for each week for every year\n",
    "    for year in da_price_data['year'].unique():\n",
    "        year_data = da_price_data[da_price_data['year'] == year]\n",
    "        total_yearly_result_df = pd.DataFrame()\n",
    "        for week in year_data['week'].unique():\n",
    "            week_data = year_data[year_data['week'] == week]\n",
    "            result = battery_optimisation(\n",
    "                week_data['datetime'], \n",
    "                week_data['da_price'], \n",
    "                max_battery_capacity=max_battery_capacity,\n",
    "                initial_capacity=initial_capacity,\n",
    "                end_capacity=end_capacity,\n",
    "                max_battery_power=max_battery_power,\n",
    "                efficiency=efficiency,\n",
    "                daily_max_charging_circles=daily_max_charging_circles,\n",
    "                include_revenue=include_revenue,    \n",
    "                solver=solver\n",
    "            )\n",
    "            result.to_csv(f'/home/kehan-vm/Projects/interesting/power_market_analysis/power_market_analysis/data/optimization/weekly_optimization/battery_operation_{year}_{week}.csv', index=False)\n",
    "            revenue = result['revenue'].sum()\n",
    "            print(f'Year: {year}, Week: {week}, Revenue: {revenue}')\n",
    "            total_yearly_result_df = pd.concat([total_yearly_result_df, result])\n",
    "        total_yearly_result_df.to_csv(f'/home/kehan-vm/Projects/interesting/power_market_analysis/power_market_analysis/data/optimization/yearly_optimization/battery_operation_{year}.csv', index=False)"
   ]
  },
  {
   "cell_type": "code",
   "execution_count": 16,
   "metadata": {},
   "outputs": [],
   "source": [
    "da_price_2023 = pd.read_csv('/home/kehan-vm/Projects/interesting/power_market_analysis/power_market_analysis/data/processed/da_price_2023.csv')\n",
    "da_price_2023.datetime = pd.to_datetime(da_price_2023.datetime)"
   ]
  },
  {
   "cell_type": "code",
   "execution_count": 17,
   "metadata": {},
   "outputs": [
    {
     "data": {
      "text/html": [
       "<div>\n",
       "<style scoped>\n",
       "    .dataframe tbody tr th:only-of-type {\n",
       "        vertical-align: middle;\n",
       "    }\n",
       "\n",
       "    .dataframe tbody tr th {\n",
       "        vertical-align: top;\n",
       "    }\n",
       "\n",
       "    .dataframe thead th {\n",
       "        text-align: right;\n",
       "    }\n",
       "</style>\n",
       "<table border=\"1\" class=\"dataframe\">\n",
       "  <thead>\n",
       "    <tr style=\"text-align: right;\">\n",
       "      <th></th>\n",
       "      <th>datetime</th>\n",
       "      <th>da_price</th>\n",
       "    </tr>\n",
       "  </thead>\n",
       "  <tbody>\n",
       "    <tr>\n",
       "      <th>0</th>\n",
       "      <td>2023-01-01 00:00:00</td>\n",
       "      <td>75.01</td>\n",
       "    </tr>\n",
       "    <tr>\n",
       "      <th>1</th>\n",
       "      <td>2023-01-01 00:15:00</td>\n",
       "      <td>-29.95</td>\n",
       "    </tr>\n",
       "    <tr>\n",
       "      <th>2</th>\n",
       "      <td>2023-01-01 00:30:00</td>\n",
       "      <td>-29.98</td>\n",
       "    </tr>\n",
       "    <tr>\n",
       "      <th>3</th>\n",
       "      <td>2023-01-01 00:45:00</td>\n",
       "      <td>-30.00</td>\n",
       "    </tr>\n",
       "    <tr>\n",
       "      <th>4</th>\n",
       "      <td>2023-01-01 01:00:00</td>\n",
       "      <td>26.81</td>\n",
       "    </tr>\n",
       "  </tbody>\n",
       "</table>\n",
       "</div>"
      ],
      "text/plain": [
       "             datetime  da_price\n",
       "0 2023-01-01 00:00:00     75.01\n",
       "1 2023-01-01 00:15:00    -29.95\n",
       "2 2023-01-01 00:30:00    -29.98\n",
       "3 2023-01-01 00:45:00    -30.00\n",
       "4 2023-01-01 01:00:00     26.81"
      ]
     },
     "execution_count": 17,
     "metadata": {},
     "output_type": "execute_result"
    }
   ],
   "source": [
    "da_price_2023.head()"
   ]
  },
  {
   "cell_type": "code",
   "execution_count": 18,
   "metadata": {},
   "outputs": [
    {
     "name": "stdout",
     "output_type": "stream",
     "text": [
      "Year: 2023, Week: 52, Revenue: 3306.4139845394734\n",
      "Year: 2023, Week: 1, Revenue: 7140.189917763157\n",
      "Year: 2023, Week: 2, Revenue: 6234.05656381579\n",
      "Year: 2023, Week: 3, Revenue: 9576.677644736843\n",
      "Year: 2023, Week: 4, Revenue: 10038.739229605264\n",
      "Year: 2023, Week: 5, Revenue: 4283.565569407894\n",
      "Year: 2023, Week: 6, Revenue: 6876.014937828947\n",
      "Year: 2023, Week: 7, Revenue: 3784.153425657895\n",
      "Year: 2023, Week: 8, Revenue: 3667.7502506578944\n",
      "Year: 2023, Week: 9, Revenue: 3662.5635552631575\n",
      "Year: 2023, Week: 10, Revenue: 2805.6527029605268\n",
      "Year: 2023, Week: 11, Revenue: 3084.6233845394736\n",
      "Year: 2023, Week: 12, Revenue: 4672.882708552632\n",
      "Year: 2023, Week: 13, Revenue: 3299.845323355263\n",
      "Year: 2023, Week: 14, Revenue: 2945.606199342105\n",
      "Year: 2023, Week: 15, Revenue: 2656.0467805921053\n",
      "Year: 2023, Week: 16, Revenue: 3334.2985424342105\n",
      "Year: 2023, Week: 17, Revenue: 2933.1158184210526\n",
      "Year: 2023, Week: 18, Revenue: 3083.9555664473683\n",
      "Year: 2023, Week: 19, Revenue: 2512.817096710526\n",
      "Year: 2023, Week: 20, Revenue: 3090.7794835526315\n",
      "Year: 2023, Week: 21, Revenue: 3815.8471532894737\n",
      "Year: 2023, Week: 22, Revenue: 4362.198876973684\n",
      "Year: 2023, Week: 23, Revenue: 3452.5033437499997\n",
      "Year: 2023, Week: 24, Revenue: 3450.2795338815786\n",
      "Year: 2023, Week: 25, Revenue: 2864.0672292763156\n",
      "Year: 2023, Week: 26, Revenue: 3169.250291447368\n",
      "Year: 2023, Week: 27, Revenue: 4257.939803289473\n",
      "Year: 2023, Week: 28, Revenue: 6163.318821710526\n",
      "Year: 2023, Week: 29, Revenue: 3990.8909700657896\n",
      "Year: 2023, Week: 30, Revenue: 2920.8091529605263\n",
      "Year: 2023, Week: 31, Revenue: 2952.1693976973684\n",
      "Year: 2023, Week: 32, Revenue: 3978.0404282894733\n",
      "Year: 2023, Week: 33, Revenue: 3260.413901973684\n",
      "Year: 2023, Week: 34, Revenue: 3351.4944569078943\n",
      "Year: 2023, Week: 35, Revenue: 2368.6203029605263\n",
      "Year: 2023, Week: 36, Revenue: 3570.3972878289474\n",
      "Year: 2023, Week: 37, Revenue: 3861.1344819078945\n",
      "Year: 2023, Week: 38, Revenue: 4324.786456907894\n",
      "Year: 2023, Week: 39, Revenue: 4480.518050000001\n",
      "Year: 2023, Week: 40, Revenue: 4044.0816851973677\n",
      "Year: 2023, Week: 41, Revenue: 3427.16560625\n",
      "Year: 2023, Week: 42, Revenue: 2937.6722970394735\n",
      "Year: 2023, Week: 43, Revenue: 2367.625614144737\n",
      "Year: 2023, Week: 44, Revenue: 2315.0241230263155\n",
      "Year: 2023, Week: 45, Revenue: 2288.430016776316\n",
      "Year: 2023, Week: 46, Revenue: 2252.886158552631\n",
      "Year: 2023, Week: 47, Revenue: 2190.7756138157893\n",
      "Year: 2023, Week: 48, Revenue: 2415.3064851973686\n",
      "Year: 2023, Week: 49, Revenue: 1881.8725371710527\n",
      "Year: 2023, Week: 50, Revenue: 1956.8630549342101\n",
      "Year: 2023, Week: 51, Revenue: 2388.741123355263\n"
     ]
    }
   ],
   "source": [
    "optimize_battery_operation_every_week(\n",
    "    da_price_2023,\n",
    "    max_battery_capacity=2,\n",
    "    initial_capacity=1, \n",
    "    end_capacity=1,\n",
    "    max_battery_power=1,\n",
    "    efficiency=0.95,\n",
    "    daily_max_charging_circles=20000000,\n",
    "    include_revenue=True,\n",
    "    solver='glpk')"
   ]
  },
  {
   "cell_type": "code",
   "execution_count": 13,
   "metadata": {},
   "outputs": [
    {
     "data": {
      "text/plain": [
       "np.float64(150279.6487819079)"
      ]
     },
     "execution_count": 13,
     "metadata": {},
     "output_type": "execute_result"
    }
   ],
   "source": [
    "df_2024_revenue = pd.read_csv('/home/kehan-vm/Projects/interesting/power_market_analysis/power_market_analysis/data/optimization/yearly_optimization/battery_operation_2024.csv')\n",
    "df_2024_revenue.head()\n",
    "df_2024_revenue.revenue.sum()"
   ]
  },
  {
   "cell_type": "code",
   "execution_count": 14,
   "metadata": {},
   "outputs": [],
   "source": [
    "df_2024_first_half = df_2024_revenue[df_2024_revenue.datetime < '2024-07-01']"
   ]
  },
  {
   "cell_type": "code",
   "execution_count": 15,
   "metadata": {},
   "outputs": [
    {
     "data": {
      "text/plain": [
       "np.float64(66896.1946493421)"
      ]
     },
     "execution_count": 15,
     "metadata": {},
     "output_type": "execute_result"
    }
   ],
   "source": [
    "df_2024_first_half.revenue.sum()"
   ]
  },
  {
   "cell_type": "code",
   "execution_count": 19,
   "metadata": {},
   "outputs": [
    {
     "data": {
      "text/html": [
       "<div>\n",
       "<style scoped>\n",
       "    .dataframe tbody tr th:only-of-type {\n",
       "        vertical-align: middle;\n",
       "    }\n",
       "\n",
       "    .dataframe tbody tr th {\n",
       "        vertical-align: top;\n",
       "    }\n",
       "\n",
       "    .dataframe thead th {\n",
       "        text-align: right;\n",
       "    }\n",
       "</style>\n",
       "<table border=\"1\" class=\"dataframe\">\n",
       "  <thead>\n",
       "    <tr style=\"text-align: right;\">\n",
       "      <th></th>\n",
       "      <th>datetime</th>\n",
       "      <th>spot_price</th>\n",
       "      <th>power</th>\n",
       "      <th>market_dispatch</th>\n",
       "      <th>opening_capacity</th>\n",
       "      <th>revenue</th>\n",
       "    </tr>\n",
       "  </thead>\n",
       "  <tbody>\n",
       "    <tr>\n",
       "      <th>0</th>\n",
       "      <td>2024-01-01 00:00:00</td>\n",
       "      <td>39.91</td>\n",
       "      <td>1.0</td>\n",
       "      <td>0.2375</td>\n",
       "      <td>1.0000</td>\n",
       "      <td>9.478625</td>\n",
       "    </tr>\n",
       "    <tr>\n",
       "      <th>1</th>\n",
       "      <td>2024-01-01 00:15:00</td>\n",
       "      <td>-0.04</td>\n",
       "      <td>0.0</td>\n",
       "      <td>0.0000</td>\n",
       "      <td>0.7500</td>\n",
       "      <td>-0.000000</td>\n",
       "    </tr>\n",
       "    <tr>\n",
       "      <th>2</th>\n",
       "      <td>2024-01-01 00:30:00</td>\n",
       "      <td>-9.01</td>\n",
       "      <td>0.0</td>\n",
       "      <td>0.0000</td>\n",
       "      <td>0.7500</td>\n",
       "      <td>-0.000000</td>\n",
       "    </tr>\n",
       "    <tr>\n",
       "      <th>3</th>\n",
       "      <td>2024-01-01 00:45:00</td>\n",
       "      <td>-29.91</td>\n",
       "      <td>-1.0</td>\n",
       "      <td>-0.2500</td>\n",
       "      <td>0.7500</td>\n",
       "      <td>7.477500</td>\n",
       "    </tr>\n",
       "    <tr>\n",
       "      <th>4</th>\n",
       "      <td>2024-01-01 01:00:00</td>\n",
       "      <td>25.28</td>\n",
       "      <td>1.0</td>\n",
       "      <td>0.2375</td>\n",
       "      <td>0.9875</td>\n",
       "      <td>6.004000</td>\n",
       "    </tr>\n",
       "  </tbody>\n",
       "</table>\n",
       "</div>"
      ],
      "text/plain": [
       "              datetime  spot_price  power  market_dispatch  opening_capacity  \\\n",
       "0  2024-01-01 00:00:00       39.91    1.0           0.2375            1.0000   \n",
       "1  2024-01-01 00:15:00       -0.04    0.0           0.0000            0.7500   \n",
       "2  2024-01-01 00:30:00       -9.01    0.0           0.0000            0.7500   \n",
       "3  2024-01-01 00:45:00      -29.91   -1.0          -0.2500            0.7500   \n",
       "4  2024-01-01 01:00:00       25.28    1.0           0.2375            0.9875   \n",
       "\n",
       "    revenue  \n",
       "0  9.478625  \n",
       "1 -0.000000  \n",
       "2 -0.000000  \n",
       "3  7.477500  \n",
       "4  6.004000  "
      ]
     },
     "execution_count": 19,
     "metadata": {},
     "output_type": "execute_result"
    }
   ],
   "source": [
    "df_2024_revenue.head()"
   ]
  },
  {
   "cell_type": "code",
   "execution_count": null,
   "metadata": {},
   "outputs": [],
   "source": []
  }
 ],
 "metadata": {
  "kernelspec": {
   "display_name": "myenv",
   "language": "python",
   "name": "python3"
  },
  "language_info": {
   "codemirror_mode": {
    "name": "ipython",
    "version": 3
   },
   "file_extension": ".py",
   "mimetype": "text/x-python",
   "name": "python",
   "nbconvert_exporter": "python",
   "pygments_lexer": "ipython3",
   "version": "3.12.10"
  }
 },
 "nbformat": 4,
 "nbformat_minor": 2
}
