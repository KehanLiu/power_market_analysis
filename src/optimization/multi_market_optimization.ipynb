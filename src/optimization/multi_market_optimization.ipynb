{
 "cells": [
  {
   "cell_type": "code",
   "execution_count": 1,
   "metadata": {},
   "outputs": [],
   "source": [
    "import pandas as pd\n",
    "import numpy as np\n",
    "import sys\n",
    "sys.path.append('/home/kehan-vm/Projects/interesting/power_market_analysis/power_market_analysis/src')\n",
    "from algorithms.battery_optimize import optimize_battery_operation_every_day\n",
    "from utils.utils import check_missing_timestamps"
   ]
  },
  {
   "cell_type": "code",
   "execution_count": 2,
   "metadata": {},
   "outputs": [],
   "source": [
    "# configurations for the optimization\n",
    "max_battery_capacity=2\n",
    "initial_capacity=1\n",
    "end_capacity=1\n",
    "max_battery_power=1\n",
    "efficiency=0.95\n",
    "daily_max_charging_circles=100000\n",
    "safty_fcr_bid_coefficient=1"
   ]
  },
  {
   "cell_type": "code",
   "execution_count": 3,
   "metadata": {},
   "outputs": [
    {
     "name": "stdout",
     "output_type": "stream",
     "text": [
      "Missing timestamps: DatetimeIndex([], dtype='datetime64[ns]', freq='15min')\n",
      "0\n",
      "Missing timestamps: DatetimeIndex([], dtype='datetime64[ns]', freq='4h')\n",
      "0\n"
     ]
    },
    {
     "name": "stderr",
     "output_type": "stream",
     "text": [
      "/home/kehan-vm/Projects/interesting/power_market_analysis/power_market_analysis/src/utils/utils.py:35: FutureWarning: The behavior of 'isin' with dtype=datetime64[ns] and castable values (e.g. strings) is deprecated. In a future version, these will not be considered matching by isin. Explicitly cast to the appropriate dtype before calling isin instead.\n",
      "  missing_timestamps = complete_timestamps[~complete_timestamps.isin(df['datetime'])]\n",
      "/home/kehan-vm/Projects/interesting/power_market_analysis/power_market_analysis/src/utils/utils.py:34: FutureWarning: 'H' is deprecated and will be removed in a future version, please use 'h' instead.\n",
      "  complete_timestamps = pd.date_range(start=df['datetime'].min(), end=df['datetime'].max(), freq=frequence)\n",
      "/home/kehan-vm/Projects/interesting/power_market_analysis/power_market_analysis/src/utils/utils.py:35: FutureWarning: The behavior of 'isin' with dtype=datetime64[ns] and castable values (e.g. strings) is deprecated. In a future version, these will not be considered matching by isin. Explicitly cast to the appropriate dtype before calling isin instead.\n",
      "  missing_timestamps = complete_timestamps[~complete_timestamps.isin(df['datetime'])]\n"
     ]
    }
   ],
   "source": [
    "# read da price data\n",
    "da_price_data = pd.read_csv('/home/kehan-vm/Projects/interesting/power_market_analysis/power_market_analysis/data/processed/day_ahead/da_price_2024.csv')\n",
    "print(len(check_missing_timestamps(da_price_data, '15min')))\n",
    "# read fcr price data\n",
    "fcr_price_data = pd.read_csv('/home/kehan-vm/Projects/interesting/power_market_analysis/power_market_analysis/data/processed/balancing_market/fcr/fcr_price_2024.csv')\n",
    "print(len(check_missing_timestamps(fcr_price_data, '4H')))"
   ]
  },
  {
   "cell_type": "code",
   "execution_count": 4,
   "metadata": {},
   "outputs": [
    {
     "name": "stderr",
     "output_type": "stream",
     "text": [
      "/tmp/ipykernel_139132/2826722949.py:7: FutureWarning: DataFrame.fillna with 'method' is deprecated and will raise in a future version. Use obj.ffill() or obj.bfill() instead.\n",
      "  fcr_price_data = fcr_price_data.fillna(method='ffill')\n"
     ]
    }
   ],
   "source": [
    "# change fcr_price_data to 15 mins interval\n",
    "fcr_price_data['datetime'] = pd.to_datetime(fcr_price_data['datetime'])\n",
    "# Replace '-' with NaN and convert to float\n",
    "fcr_price_data['GERMANY_SETTLEMENTCAPACITY_PRICE_[EUR/MW]'] = fcr_price_data['GERMANY_SETTLEMENTCAPACITY_PRICE_[EUR/MW]'].replace('-', np.nan).astype(float)\n",
    "# Resample and forward fill\n",
    "fcr_price_data = fcr_price_data.resample('15min', on='datetime').last().reset_index()\n",
    "fcr_price_data = fcr_price_data.fillna(method='ffill')\n",
    "# Scale the price for 15-minute intervals\n",
    "fcr_price_data = fcr_price_data[['datetime', 'GERMANY_SETTLEMENTCAPACITY_PRICE_[EUR/MW]']]"
   ]
  },
  {
   "cell_type": "code",
   "execution_count": 5,
   "metadata": {},
   "outputs": [],
   "source": [
    "# merge da_price_data and fcr_price_data based on datetime\n",
    "da_price_data['datetime'] = pd.to_datetime(da_price_data['datetime'])\n",
    "fcr_price_data['datetime'] = pd.to_datetime(fcr_price_data['datetime'])\n",
    "mm_price_data = da_price_data.merge(fcr_price_data, on='datetime', how='left')"
   ]
  },
  {
   "cell_type": "code",
   "execution_count": 6,
   "metadata": {},
   "outputs": [
    {
     "data": {
      "text/html": [
       "<div>\n",
       "<style scoped>\n",
       "    .dataframe tbody tr th:only-of-type {\n",
       "        vertical-align: middle;\n",
       "    }\n",
       "\n",
       "    .dataframe tbody tr th {\n",
       "        vertical-align: top;\n",
       "    }\n",
       "\n",
       "    .dataframe thead th {\n",
       "        text-align: right;\n",
       "    }\n",
       "</style>\n",
       "<table border=\"1\" class=\"dataframe\">\n",
       "  <thead>\n",
       "    <tr style=\"text-align: right;\">\n",
       "      <th></th>\n",
       "      <th>datetime</th>\n",
       "      <th>da_price</th>\n",
       "      <th>GERMANY_SETTLEMENTCAPACITY_PRICE_[EUR/MW]</th>\n",
       "    </tr>\n",
       "  </thead>\n",
       "  <tbody>\n",
       "    <tr>\n",
       "      <th>0</th>\n",
       "      <td>2024-01-01 00:00:00</td>\n",
       "      <td>39.91</td>\n",
       "      <td>114.8</td>\n",
       "    </tr>\n",
       "    <tr>\n",
       "      <th>1</th>\n",
       "      <td>2024-01-01 00:15:00</td>\n",
       "      <td>-0.04</td>\n",
       "      <td>114.8</td>\n",
       "    </tr>\n",
       "    <tr>\n",
       "      <th>2</th>\n",
       "      <td>2024-01-01 00:30:00</td>\n",
       "      <td>-9.01</td>\n",
       "      <td>114.8</td>\n",
       "    </tr>\n",
       "    <tr>\n",
       "      <th>3</th>\n",
       "      <td>2024-01-01 00:45:00</td>\n",
       "      <td>-29.91</td>\n",
       "      <td>114.8</td>\n",
       "    </tr>\n",
       "    <tr>\n",
       "      <th>4</th>\n",
       "      <td>2024-01-01 01:00:00</td>\n",
       "      <td>25.28</td>\n",
       "      <td>114.8</td>\n",
       "    </tr>\n",
       "  </tbody>\n",
       "</table>\n",
       "</div>"
      ],
      "text/plain": [
       "             datetime  da_price  GERMANY_SETTLEMENTCAPACITY_PRICE_[EUR/MW]\n",
       "0 2024-01-01 00:00:00     39.91                                      114.8\n",
       "1 2024-01-01 00:15:00     -0.04                                      114.8\n",
       "2 2024-01-01 00:30:00     -9.01                                      114.8\n",
       "3 2024-01-01 00:45:00    -29.91                                      114.8\n",
       "4 2024-01-01 01:00:00     25.28                                      114.8"
      ]
     },
     "execution_count": 6,
     "metadata": {},
     "output_type": "execute_result"
    }
   ],
   "source": [
    "mm_price_data.head()"
   ]
  },
  {
   "cell_type": "code",
   "execution_count": 7,
   "metadata": {},
   "outputs": [],
   "source": [
    "def single_day_optimization(mm_price_data, calculate_daily_revenue=True):\n",
    "    # optimize the battery operation for the every day based on the da price first\n",
    "    every_day_da_price = mm_price_data.groupby(mm_price_data['datetime'].dt.date)\n",
    "    result_total = pd.DataFrame()\n",
    "    for date, single_day_df in every_day_da_price:\n",
    "        result_single_day = optimize_battery_operation_every_day(\n",
    "            single_day_df,\n",
    "            max_battery_capacity,\n",
    "            initial_capacity,\n",
    "            end_capacity,\n",
    "            max_battery_power,\n",
    "            efficiency,\n",
    "            daily_max_charging_circles,\n",
    "            include_revenue=True\n",
    "            )\n",
    "        if calculate_daily_revenue:\n",
    "            result_single_day['total_daily_revenue'] = result_single_day['revenue'].sum()\n",
    "        # Reset index before concatenation\n",
    "        result_single_day = result_single_day.reset_index(drop=True)\n",
    "        # Concatenate with ignore_index=True\n",
    "        result_total = pd.concat([result_total, result_single_day], ignore_index=True)\n",
    "    return result_total\n",
    "\n",
    "def multi_market_optimization(mm_price_data, safty_fcr_bid_coefficient):\n",
    "    result_total_single_day = single_day_optimization(mm_price_data)\n",
    "    mm_result = mm_price_data.merge(result_total_single_day, on='datetime', how='left')\n",
    "    # calculate the revenue for each day\n",
    "    mm_result['target_fcr_price'] = mm_result['total_daily_revenue'] / 6\n",
    "    mm_result['scaled_fcr_price'] = mm_result['target_fcr_price'] * safty_fcr_bid_coefficient\n",
    "    mm_result['success_fcr_bid'] = mm_result['scaled_fcr_price'] >= mm_result['GERMANY_SETTLEMENTCAPACITY_PRICE_[EUR/MW]']\n",
    "    # if fcr bid failed, do single_day_optimization on failed timeslots of that day\n",
    "    mm_result_failed = mm_result[mm_result['success_fcr_bid'] == False]\n",
    "    result_total_failed_fcr_bid = single_day_optimization(mm_result_failed, calculate_daily_revenue=False)\n",
    "    # add a real_ prefix to every column of result_total_failed_fcr_bid, except for datetime\n",
    "    result_total_failed_fcr_bid.columns = ['datetime' if col == 'datetime' else 'real_' + col \n",
    "                                         for col in result_total_failed_fcr_bid.columns]\n",
    "    # merge result_total_failed_fcr_bid and mm_result\n",
    "    result_total = mm_result.merge(result_total_failed_fcr_bid, on='datetime', how='left')\n",
    "    result_total.loc[result_total.success_fcr_bid == True, 'real_revenue'] = result_total.loc[result_total.success_fcr_bid == True, 'scaled_fcr_price'] / 16\n",
    "    # ffill real_opening_capacity\n",
    "    result_total['real_opening_capacity'] = result_total['real_opening_capacity'].ffill()\n",
    "    return result_total\n"
   ]
  },
  {
   "cell_type": "code",
   "execution_count": 8,
   "metadata": {},
   "outputs": [],
   "source": [
    "result_total = multi_market_optimization(mm_price_data, safty_fcr_bid_coefficient)"
   ]
  },
  {
   "cell_type": "code",
   "execution_count": 9,
   "metadata": {},
   "outputs": [],
   "source": [
    "result_total_slim = result_total[['datetime', 'spot_price', 'GERMANY_SETTLEMENTCAPACITY_PRICE_[EUR/MW]', 'revenue', 'target_fcr_price', 'success_fcr_bid', 'real_power', 'real_market_dispatch', 'real_opening_capacity', 'real_revenue']].rename(columns={'GERMANY_SETTLEMENTCAPACITY_PRICE_[EUR/MW]': 'fcr_price', 'revenue': 'revenue_full_da'} )"
   ]
  },
  {
   "cell_type": "code",
   "execution_count": 10,
   "metadata": {},
   "outputs": [
    {
     "data": {
      "text/html": [
       "<div>\n",
       "<style scoped>\n",
       "    .dataframe tbody tr th:only-of-type {\n",
       "        vertical-align: middle;\n",
       "    }\n",
       "\n",
       "    .dataframe tbody tr th {\n",
       "        vertical-align: top;\n",
       "    }\n",
       "\n",
       "    .dataframe thead th {\n",
       "        text-align: right;\n",
       "    }\n",
       "</style>\n",
       "<table border=\"1\" class=\"dataframe\">\n",
       "  <thead>\n",
       "    <tr style=\"text-align: right;\">\n",
       "      <th></th>\n",
       "      <th>datetime</th>\n",
       "      <th>spot_price</th>\n",
       "      <th>fcr_price</th>\n",
       "      <th>revenue_full_da</th>\n",
       "      <th>target_fcr_price</th>\n",
       "      <th>success_fcr_bid</th>\n",
       "      <th>real_power</th>\n",
       "      <th>real_market_dispatch</th>\n",
       "      <th>real_opening_capacity</th>\n",
       "      <th>real_revenue</th>\n",
       "    </tr>\n",
       "  </thead>\n",
       "  <tbody>\n",
       "    <tr>\n",
       "      <th>0</th>\n",
       "      <td>2024-01-01 00:00:00</td>\n",
       "      <td>39.91</td>\n",
       "      <td>114.8</td>\n",
       "      <td>9.478625</td>\n",
       "      <td>50.50528</td>\n",
       "      <td>False</td>\n",
       "      <td>1.0</td>\n",
       "      <td>0.2375</td>\n",
       "      <td>1.0000</td>\n",
       "      <td>9.478625</td>\n",
       "    </tr>\n",
       "    <tr>\n",
       "      <th>1</th>\n",
       "      <td>2024-01-01 00:15:00</td>\n",
       "      <td>-0.04</td>\n",
       "      <td>114.8</td>\n",
       "      <td>-0.000000</td>\n",
       "      <td>50.50528</td>\n",
       "      <td>False</td>\n",
       "      <td>0.0</td>\n",
       "      <td>0.0000</td>\n",
       "      <td>0.7500</td>\n",
       "      <td>-0.000000</td>\n",
       "    </tr>\n",
       "    <tr>\n",
       "      <th>2</th>\n",
       "      <td>2024-01-01 00:30:00</td>\n",
       "      <td>-9.01</td>\n",
       "      <td>114.8</td>\n",
       "      <td>-0.000000</td>\n",
       "      <td>50.50528</td>\n",
       "      <td>False</td>\n",
       "      <td>0.0</td>\n",
       "      <td>0.0000</td>\n",
       "      <td>0.7500</td>\n",
       "      <td>-0.000000</td>\n",
       "    </tr>\n",
       "    <tr>\n",
       "      <th>3</th>\n",
       "      <td>2024-01-01 00:45:00</td>\n",
       "      <td>-29.91</td>\n",
       "      <td>114.8</td>\n",
       "      <td>7.477500</td>\n",
       "      <td>50.50528</td>\n",
       "      <td>False</td>\n",
       "      <td>-1.0</td>\n",
       "      <td>-0.2500</td>\n",
       "      <td>0.7500</td>\n",
       "      <td>7.477500</td>\n",
       "    </tr>\n",
       "    <tr>\n",
       "      <th>4</th>\n",
       "      <td>2024-01-01 01:00:00</td>\n",
       "      <td>25.28</td>\n",
       "      <td>114.8</td>\n",
       "      <td>6.004000</td>\n",
       "      <td>50.50528</td>\n",
       "      <td>False</td>\n",
       "      <td>1.0</td>\n",
       "      <td>0.2375</td>\n",
       "      <td>0.9875</td>\n",
       "      <td>6.004000</td>\n",
       "    </tr>\n",
       "  </tbody>\n",
       "</table>\n",
       "</div>"
      ],
      "text/plain": [
       "             datetime  spot_price  fcr_price  revenue_full_da  \\\n",
       "0 2024-01-01 00:00:00       39.91      114.8         9.478625   \n",
       "1 2024-01-01 00:15:00       -0.04      114.8        -0.000000   \n",
       "2 2024-01-01 00:30:00       -9.01      114.8        -0.000000   \n",
       "3 2024-01-01 00:45:00      -29.91      114.8         7.477500   \n",
       "4 2024-01-01 01:00:00       25.28      114.8         6.004000   \n",
       "\n",
       "   target_fcr_price  success_fcr_bid  real_power  real_market_dispatch  \\\n",
       "0          50.50528            False         1.0                0.2375   \n",
       "1          50.50528            False         0.0                0.0000   \n",
       "2          50.50528            False         0.0                0.0000   \n",
       "3          50.50528            False        -1.0               -0.2500   \n",
       "4          50.50528            False         1.0                0.2375   \n",
       "\n",
       "   real_opening_capacity  real_revenue  \n",
       "0                 1.0000      9.478625  \n",
       "1                 0.7500     -0.000000  \n",
       "2                 0.7500     -0.000000  \n",
       "3                 0.7500      7.477500  \n",
       "4                 0.9875      6.004000  "
      ]
     },
     "execution_count": 10,
     "metadata": {},
     "output_type": "execute_result"
    }
   ],
   "source": [
    "result_total_slim.head()"
   ]
  },
  {
   "cell_type": "code",
   "execution_count": 11,
   "metadata": {},
   "outputs": [
    {
     "data": {
      "text/plain": [
       "np.float64(160658.4527029057)"
      ]
     },
     "execution_count": 11,
     "metadata": {},
     "output_type": "execute_result"
    }
   ],
   "source": [
    "result_total_slim.real_revenue.sum()"
   ]
  },
  {
   "cell_type": "code",
   "execution_count": 12,
   "metadata": {},
   "outputs": [],
   "source": [
    "result_total_slim.to_csv(f'/home/kehan-vm/Projects/interesting/power_market_analysis/power_market_analysis/data/optimization/multi_market_optimization/result_{result_total_slim.datetime.min().date()}_to_{result_total_slim.datetime.max().date()}.csv', index=False)"
   ]
  },
  {
   "cell_type": "code",
   "execution_count": 13,
   "metadata": {},
   "outputs": [],
   "source": [
    "result_total_slim = pd.read_csv('/home/kehan-vm/Projects/interesting/power_market_analysis/power_market_analysis/data/optimization/multi_market_optimization/result_2024-01-01_to_2024-12-31.csv')"
   ]
  },
  {
   "cell_type": "code",
   "execution_count": 14,
   "metadata": {},
   "outputs": [],
   "source": [
    "fcr = result_total_slim[result_total_slim['success_fcr_bid'] == True]\n",
    "spot_market = result_total_slim[result_total_slim['success_fcr_bid'] == False]"
   ]
  },
  {
   "cell_type": "code",
   "execution_count": 15,
   "metadata": {},
   "outputs": [
    {
     "name": "stdout",
     "output_type": "stream",
     "text": [
      "hours for fcr market is:  5288.0\n",
      "hours for spot market is:  3496.0\n"
     ]
    }
   ],
   "source": [
    "print('hours for fcr market is: ', fcr.shape[0]/4)\n",
    "print('hours for spot market is: ', spot_market.shape[0]/4)"
   ]
  },
  {
   "cell_type": "code",
   "execution_count": 17,
   "metadata": {},
   "outputs": [
    {
     "data": {
      "text/plain": [
       "np.float64(150503.15009835528)"
      ]
     },
     "execution_count": 17,
     "metadata": {},
     "output_type": "execute_result"
    }
   ],
   "source": [
    "result_total_slim.revenue_full_da.sum()"
   ]
  },
  {
   "cell_type": "code",
   "execution_count": 20,
   "metadata": {},
   "outputs": [
    {
     "name": "stdout",
     "output_type": "stream",
     "text": [
      "total circles:  609.4309375\n"
     ]
    }
   ],
   "source": [
    "circles = result_total_slim[result_total_slim['real_market_dispatch'] > 0].real_market_dispatch.sum()/max_battery_capacity\n",
    "print('total circles: ', circles)"
   ]
  },
  {
   "cell_type": "code",
   "execution_count": null,
   "metadata": {},
   "outputs": [],
   "source": []
  }
 ],
 "metadata": {
  "kernelspec": {
   "display_name": "env_power_market_analysis",
   "language": "python",
   "name": "python3"
  },
  "language_info": {
   "codemirror_mode": {
    "name": "ipython",
    "version": 3
   },
   "file_extension": ".py",
   "mimetype": "text/x-python",
   "name": "python",
   "nbconvert_exporter": "python",
   "pygments_lexer": "ipython3",
   "version": "3.12.10"
  }
 },
 "nbformat": 4,
 "nbformat_minor": 2
}
