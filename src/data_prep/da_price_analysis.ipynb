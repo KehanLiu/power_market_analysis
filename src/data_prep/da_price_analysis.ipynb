{
 "cells": [
  {
   "cell_type": "code",
   "execution_count": 18,
   "metadata": {},
   "outputs": [],
   "source": [
    "import pandas as pd"
   ]
  },
  {
   "cell_type": "code",
   "execution_count": 17,
   "metadata": {},
   "outputs": [],
   "source": [
    "file_path = '../../data/processed/day_ahead/da_price_2024.csv'\n",
    "da_price = pd.read_csv(file_path)"
   ]
  },
  {
   "cell_type": "code",
   "execution_count": 19,
   "metadata": {},
   "outputs": [
    {
     "data": {
      "text/html": [
       "<div>\n",
       "<style scoped>\n",
       "    .dataframe tbody tr th:only-of-type {\n",
       "        vertical-align: middle;\n",
       "    }\n",
       "\n",
       "    .dataframe tbody tr th {\n",
       "        vertical-align: top;\n",
       "    }\n",
       "\n",
       "    .dataframe thead th {\n",
       "        text-align: right;\n",
       "    }\n",
       "</style>\n",
       "<table border=\"1\" class=\"dataframe\">\n",
       "  <thead>\n",
       "    <tr style=\"text-align: right;\">\n",
       "      <th></th>\n",
       "      <th>datetime</th>\n",
       "      <th>da_price</th>\n",
       "    </tr>\n",
       "  </thead>\n",
       "  <tbody>\n",
       "    <tr>\n",
       "      <th>0</th>\n",
       "      <td>2024-01-01 00:00:00</td>\n",
       "      <td>39.91</td>\n",
       "    </tr>\n",
       "    <tr>\n",
       "      <th>1</th>\n",
       "      <td>2024-01-01 00:15:00</td>\n",
       "      <td>-0.04</td>\n",
       "    </tr>\n",
       "    <tr>\n",
       "      <th>2</th>\n",
       "      <td>2024-01-01 00:30:00</td>\n",
       "      <td>-9.01</td>\n",
       "    </tr>\n",
       "    <tr>\n",
       "      <th>3</th>\n",
       "      <td>2024-01-01 00:45:00</td>\n",
       "      <td>-29.91</td>\n",
       "    </tr>\n",
       "    <tr>\n",
       "      <th>4</th>\n",
       "      <td>2024-01-01 01:00:00</td>\n",
       "      <td>25.28</td>\n",
       "    </tr>\n",
       "  </tbody>\n",
       "</table>\n",
       "</div>"
      ],
      "text/plain": [
       "              datetime  da_price\n",
       "0  2024-01-01 00:00:00     39.91\n",
       "1  2024-01-01 00:15:00     -0.04\n",
       "2  2024-01-01 00:30:00     -9.01\n",
       "3  2024-01-01 00:45:00    -29.91\n",
       "4  2024-01-01 01:00:00     25.28"
      ]
     },
     "execution_count": 19,
     "metadata": {},
     "output_type": "execute_result"
    }
   ],
   "source": [
    "da_price.head()"
   ]
  },
  {
   "cell_type": "code",
   "execution_count": 23,
   "metadata": {},
   "outputs": [],
   "source": [
    "da_price['datetime'] = pd.to_datetime(da_price['datetime'])\n",
    "da_price['hour'] = da_price['datetime'].dt.hour\n",
    "da_price['minute'] = da_price['datetime'].dt.minute\n",
    "da_price['da_price'] = da_price['da_price'].astype(float)"
   ]
  },
  {
   "cell_type": "code",
   "execution_count": 25,
   "metadata": {},
   "outputs": [],
   "source": [
    "# for every two hours, like 0-2, 2-4, 4-6, ..., 22-24, get a seperate df\n",
    "da_price_0_2 = da_price[da_price['hour'].isin([0, 1])]\n",
    "da_price_2_4 = da_price[da_price['hour'].isin([2, 3])]\n",
    "da_price_4_6 = da_price[da_price['hour'].isin([4, 5])]\n",
    "da_price_6_8 = da_price[da_price['hour'].isin([6, 7])]\n",
    "da_price_8_10 = da_price[da_price['hour'].isin([8, 9])]\n",
    "da_price_10_12 = da_price[da_price['hour'].isin([10, 11])]\n",
    "da_price_12_14 = da_price[da_price['hour'].isin([12, 13])]\n",
    "da_price_14_16 = da_price[da_price['hour'].isin([14, 15])]\n",
    "da_price_16_18 = da_price[da_price['hour'].isin([16, 17])]\n",
    "da_price_18_20 = da_price[da_price['hour'].isin([18, 19])]\n",
    "da_price_20_22 = da_price[da_price['hour'].isin([20, 21])]\n",
    "da_price_22_24 = da_price[da_price['hour'].isin([22, 23])]"
   ]
  },
  {
   "cell_type": "code",
   "execution_count": null,
   "metadata": {},
   "outputs": [
    {
     "ename": "NameError",
     "evalue": "name 'time_periods_labels' is not defined",
     "output_type": "error",
     "traceback": [
      "\u001b[31m---------------------------------------------------------------------------\u001b[39m",
      "\u001b[31mNameError\u001b[39m                                 Traceback (most recent call last)",
      "\u001b[36mCell\u001b[39m\u001b[36m \u001b[39m\u001b[32mIn[29]\u001b[39m\u001b[32m, line 40\u001b[39m\n\u001b[32m     12\u001b[39m     fig.add_trace(\n\u001b[32m     13\u001b[39m         go.Box(\n\u001b[32m     14\u001b[39m             y=df[\u001b[33m'\u001b[39m\u001b[33mda_price\u001b[39m\u001b[33m'\u001b[39m],\n\u001b[32m   (...)\u001b[39m\u001b[32m     27\u001b[39m         )\n\u001b[32m     28\u001b[39m     )\n\u001b[32m     30\u001b[39m \u001b[38;5;66;03m# Update layout\u001b[39;00m\n\u001b[32m     31\u001b[39m fig.update_layout(\n\u001b[32m     32\u001b[39m     title=\u001b[33m'\u001b[39m\u001b[33mDay-Ahead Price Distribution by Time Period\u001b[39m\u001b[33m'\u001b[39m,\n\u001b[32m     33\u001b[39m     yaxis_title=\u001b[33m'\u001b[39m\u001b[33mPrice (EUR/MWh)\u001b[39m\u001b[33m'\u001b[39m,\n\u001b[32m     34\u001b[39m     xaxis_title=\u001b[33m'\u001b[39m\u001b[33mTime Period (hours)\u001b[39m\u001b[33m'\u001b[39m,\n\u001b[32m     35\u001b[39m     height=\u001b[32m600\u001b[39m,\n\u001b[32m     36\u001b[39m     width=\u001b[32m1000\u001b[39m,\n\u001b[32m     37\u001b[39m     xaxis=\u001b[38;5;28mdict\u001b[39m(\n\u001b[32m     38\u001b[39m         \u001b[38;5;28mtype\u001b[39m=\u001b[33m'\u001b[39m\u001b[33mcategory\u001b[39m\u001b[33m'\u001b[39m,  \u001b[38;5;66;03m# Set x-axis type to category\u001b[39;00m\n\u001b[32m     39\u001b[39m         tickmode=\u001b[33m'\u001b[39m\u001b[33marray\u001b[39m\u001b[33m'\u001b[39m,  \u001b[38;5;66;03m# Force specific tick labels\u001b[39;00m\n\u001b[32m---> \u001b[39m\u001b[32m40\u001b[39m         ticktext=\u001b[43mtime_periods_labels\u001b[49m,  \u001b[38;5;66;03m# Use your time period labels\u001b[39;00m\n\u001b[32m     41\u001b[39m     ),\n\u001b[32m     42\u001b[39m     yaxis=\u001b[38;5;28mdict\u001b[39m(\n\u001b[32m     43\u001b[39m         zeroline=\u001b[38;5;28;01mTrue\u001b[39;00m,\n\u001b[32m     44\u001b[39m         zerolinewidth=\u001b[32m2\u001b[39m,\n\u001b[32m     45\u001b[39m         zerolinecolor=\u001b[33m'\u001b[39m\u001b[33mLightGray\u001b[39m\u001b[33m'\u001b[39m,\n\u001b[32m     46\u001b[39m         gridcolor=\u001b[33m'\u001b[39m\u001b[33mLightGray\u001b[39m\u001b[33m'\u001b[39m\n\u001b[32m     47\u001b[39m     ),\n\u001b[32m     48\u001b[39m     plot_bgcolor=\u001b[33m'\u001b[39m\u001b[33mwhite\u001b[39m\u001b[33m'\u001b[39m,\n\u001b[32m     49\u001b[39m     showlegend=\u001b[38;5;28;01mTrue\u001b[39;00m,  \u001b[38;5;66;03m# Show legend\u001b[39;00m\n\u001b[32m     50\u001b[39m     legend=\u001b[38;5;28mdict\u001b[39m(\n\u001b[32m     51\u001b[39m         title=\u001b[33m\"\u001b[39m\u001b[33mTime Periods\u001b[39m\u001b[33m\"\u001b[39m,\n\u001b[32m     52\u001b[39m         yanchor=\u001b[33m\"\u001b[39m\u001b[33mtop\u001b[39m\u001b[33m\"\u001b[39m,\n\u001b[32m     53\u001b[39m         y=\u001b[32m0.99\u001b[39m,\n\u001b[32m     54\u001b[39m         xanchor=\u001b[33m\"\u001b[39m\u001b[33mright\u001b[39m\u001b[33m\"\u001b[39m,\n\u001b[32m     55\u001b[39m         x=\u001b[32m1.15\u001b[39m,\n\u001b[32m     56\u001b[39m         bgcolor=\u001b[33m'\u001b[39m\u001b[33mrgba(255, 255, 255, 0.8)\u001b[39m\u001b[33m'\u001b[39m  \u001b[38;5;66;03m# semi-transparent white background\u001b[39;00m\n\u001b[32m     57\u001b[39m     )\n\u001b[32m     58\u001b[39m )\n\u001b[32m     60\u001b[39m \u001b[38;5;66;03m# Show the plot\u001b[39;00m\n\u001b[32m     61\u001b[39m fig.show()\n",
      "\u001b[31mNameError\u001b[39m: name 'time_periods_labels' is not defined"
     ]
    }
   ],
   "source": [
    "import plotly.graph_objects as go\n",
    "\n",
    "# Create box plot\n",
    "fig = go.Figure()\n",
    "\n",
    "# Define colors for different time periods\n",
    "colors = ['#1f77b4', '#ff7f0e', '#2ca02c', '#d62728', '#9467bd', '#8c564b',\n",
    "          '#e377c2', '#7f7f7f', '#bcbd22', '#17becf', '#aec7e8', '#ffbb78']\n",
    "\n",
    "\n",
    "# Create a list of all dataframes with properly formatted labels\n",
    "time_periods = [\n",
    "    (da_price_0_2, '0-2'), (da_price_2_4, '2-4'), \n",
    "    (da_price_4_6, '4-6'), (da_price_6_8, '6-8'),\n",
    "    (da_price_8_10, '8-10'), (da_price_10_12, '10-12'),\n",
    "    (da_price_12_14, '12-14'), (da_price_14_16, '14-16'),\n",
    "    (da_price_16_18, '16-18'), (da_price_18_20, '18-20'),\n",
    "    (da_price_20_22, '20-22'), (da_price_22_24, '22-24')\n",
    "]\n",
    "\n",
    "# Extract labels from time_periods\n",
    "time_periods_labels = [label for _, label in time_periods]\n",
    "\n",
    "# Add each time period's box plot\n",
    "for (df, label), color in zip(time_periods, colors):\n",
    "    fig.add_trace(\n",
    "        go.Box(\n",
    "            y=df['da_price'],\n",
    "            name=label,\n",
    "            boxpoints='outliers',  # show outliers\n",
    "            jitter=0.3,  # add some jitter to points\n",
    "            pointpos=-1.8,  # offset of points from center\n",
    "            marker_color=color,  # set color\n",
    "            showlegend=True,  # show in legend\n",
    "            legendgroup=label,  # group in legend\n",
    "            hovertemplate=(\n",
    "                f\"Time Period: {label}<br>\" +\n",
    "                \"Price: %{y:.2f} EUR/MWh<br>\" +\n",
    "                \"<extra></extra>\"\n",
    "            )\n",
    "        )\n",
    "    )\n",
    "\n",
    "# Update layout\n",
    "fig.update_layout(\n",
    "    title='Day-Ahead Price Distribution by Time Period',\n",
    "    yaxis_title='Price (EUR/MWh)',\n",
    "    xaxis_title='Time Period (hours)',\n",
    "    height=600,\n",
    "    width=1000,\n",
    "    xaxis=dict(\n",
    "        type='category',  # Set x-axis type to category\n",
    "        tickmode='array',  # Force specific tick labels\n",
    "        ticktext=time_periods_labels,  # Use your time period labels\n",
    "    ),\n",
    "    yaxis=dict(\n",
    "        zeroline=True,\n",
    "        zerolinewidth=2,\n",
    "        zerolinecolor='LightGray',\n",
    "        gridcolor='LightGray'\n",
    "    ),\n",
    "    plot_bgcolor='white',\n",
    "    showlegend=True,  # Show legend\n",
    "    legend=dict(\n",
    "        title=\"Time Periods\",\n",
    "        yanchor=\"top\",\n",
    "        y=0.99,\n",
    "        xanchor=\"right\",\n",
    "        x=1.15,\n",
    "        bgcolor='rgba(255, 255, 255, 0.8)'  # semi-transparent white background\n",
    "    )\n",
    ")\n",
    "\n",
    "# Show the plot\n",
    "fig.show()"
   ]
  },
  {
   "cell_type": "code",
   "execution_count": null,
   "metadata": {},
   "outputs": [],
   "source": []
  }
 ],
 "metadata": {
  "kernelspec": {
   "display_name": "env_power_market_analysis",
   "language": "python",
   "name": "python3"
  },
  "language_info": {
   "codemirror_mode": {
    "name": "ipython",
    "version": 3
   },
   "file_extension": ".py",
   "mimetype": "text/x-python",
   "name": "python",
   "nbconvert_exporter": "python",
   "pygments_lexer": "ipython3",
   "version": "3.12.10"
  }
 },
 "nbformat": 4,
 "nbformat_minor": 2
}
