{
 "cells": [
  {
   "cell_type": "code",
   "execution_count": 1,
   "metadata": {},
   "outputs": [],
   "source": [
    "import pandas as pd"
   ]
  },
  {
   "cell_type": "code",
   "execution_count": 7,
   "metadata": {},
   "outputs": [],
   "source": [
    "# Read the Excel file\n",
    "file_path = '/home/kehan-vm/Projects/interesting/power_market_analysis/power_market_analysis/data/raw/day_ahead/DA price 15min 2023.xlsx'\n",
    "df = pd.read_excel(file_path, header=1)\n",
    "df = df.iloc[1:]\n",
    "df = df.rename(columns={'Datum (MEZ)': 'datetime', 'Day Ahead Auktion EXAA (DE-LU)': 'da_price'})\n",
    "df['datetime'] = pd.to_datetime(df['datetime'])\n",
    "df.to_csv('/home/kehan-vm/Projects/interesting/power_market_analysis/power_market_analysis/data/processed/da_price_2023.csv', index=False)"
   ]
  },
  {
   "cell_type": "code",
   "execution_count": 27,
   "metadata": {},
   "outputs": [],
   "source": [
    "file_csv_path = '/home/kehan-vm/Projects/interesting/power_market_analysis/power_market_analysis/data/raw/day_ahead/DA price 15min 2024.csv'\n",
    "df = pd.read_csv(file_csv_path)\n",
    "df = df.iloc[1:]\n",
    "df = df.rename(columns={'Datum (MEZ)': 'datetime', 'Day Ahead Auktion EXAA (DE-LU)': 'da_price'})\n",
    "df['datetime'] = pd.to_datetime(df['datetime'], utc=True).dt.tz_convert('Europe/Amsterdam').dt.tz_localize(None)\n",
    "df.to_csv('/home/kehan-vm/Projects/interesting/power_market_analysis/power_market_analysis/data/processed/da_price_2024.csv', index=False)\n"
   ]
  },
  {
   "cell_type": "code",
   "execution_count": null,
   "metadata": {},
   "outputs": [],
   "source": []
  }
 ],
 "metadata": {
  "kernelspec": {
   "display_name": "myenv",
   "language": "python",
   "name": "python3"
  },
  "language_info": {
   "codemirror_mode": {
    "name": "ipython",
    "version": 3
   },
   "file_extension": ".py",
   "mimetype": "text/x-python",
   "name": "python",
   "nbconvert_exporter": "python",
   "pygments_lexer": "ipython3",
   "version": "3.12.10"
  }
 },
 "nbformat": 4,
 "nbformat_minor": 2
}
