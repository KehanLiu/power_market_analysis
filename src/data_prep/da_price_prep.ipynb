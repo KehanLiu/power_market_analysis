{
 "cells": [
  {
   "cell_type": "code",
   "execution_count": 22,
   "metadata": {},
   "outputs": [],
   "source": [
    "import pandas as pd\n",
    "import sys\n",
    "sys.path.append('/home/kehan-vm/Projects/interesting/power_market_analysis/power_market_analysis/src')\n",
    "from utils.utils import check_missing_timestamps"
   ]
  },
  {
   "cell_type": "code",
   "execution_count": 42,
   "metadata": {},
   "outputs": [
    {
     "name": "stdout",
     "output_type": "stream",
     "text": [
      "There are duplicates in the datetime column\n",
      "Missing timestamps: DatetimeIndex(['2023-02-26 03:00:00', '2023-02-26 03:15:00',\n",
      "               '2023-02-26 03:30:00', '2023-02-26 03:45:00',\n",
      "               '2023-03-26 02:00:00', '2023-03-26 02:15:00',\n",
      "               '2023-03-26 02:30:00', '2023-03-26 02:45:00',\n",
      "               '2023-09-29 03:00:00', '2023-09-29 03:15:00',\n",
      "               '2023-09-29 03:30:00', '2023-09-29 03:45:00'],\n",
      "              dtype='datetime64[ns]', freq=None)\n"
     ]
    }
   ],
   "source": [
    "# Read the Excel file\n",
    "file_path = '/home/kehan-vm/Projects/interesting/power_market_analysis/power_market_analysis/data/raw/day_ahead/DA price 15min 2023.xlsx'\n",
    "df = pd.read_excel(file_path, header=1)\n",
    "df = df.iloc[1:]\n",
    "df = df.rename(columns={'Datum (MEZ)': 'datetime', 'Day Ahead Auktion EXAA (DE-LU)': 'da_price'})\n",
    "df['datetime'] = pd.to_datetime(df['datetime'])\n",
    "df['da_price'] = pd.to_numeric(df['da_price'], errors='coerce')\n",
    "\n",
    "# check if nan values are present, if so, fill with linear interpolation\n",
    "if df['da_price'].isna().any():\n",
    "    df = df.interpolate(method='linear')\n",
    "\n",
    "# check if there are any duplicates\n",
    "if df['datetime'].duplicated().any():\n",
    "    print('There are duplicates in the datetime column')\n",
    "    # Show all rows that have duplicate datetime values\n",
    "    # duplicate_rows = df[df['datetime'].duplicated(keep=False)].sort_values('datetime')\n",
    "    # print(\"\\nRows with duplicate datetimes:\")\n",
    "    # print(duplicate_rows)\n",
    "    # Remove duplicates while preserving the first occurrence\n",
    "    df = df.drop_duplicates(subset='datetime', keep='first')\n",
    "else:\n",
    "    print('There are no duplicates in the datetime column')\n",
    "# check missing timestamps\n",
    "complete_timestamps = pd.date_range(start=df['datetime'].min(), end=df['datetime'].max(), freq='15min')\n",
    "missing_timestamps = check_missing_timestamps(df, '15min')\n",
    "if len(missing_timestamps) > 0:\n",
    "    # add missing timestamps to df, keep the other existing values and fill with linear interpolation\n",
    "    # Set index and reindex with the complete range\n",
    "    df = df.set_index('datetime')\n",
    "    df = df.reindex(complete_timestamps)\n",
    "    df = df.interpolate(method='linear')\n",
    "    df = df.reset_index().rename(columns={'index': 'datetime'})\n",
    "    df['datetime'] = df['datetime'].dt.tz_localize(None)\n",
    "\n",
    "df.to_csv('/home/kehan-vm/Projects/interesting/power_market_analysis/power_market_analysis/data/processed/day_ahead/da_price_2023.csv', index=False)"
   ]
  },
  {
   "cell_type": "code",
   "execution_count": 41,
   "metadata": {},
   "outputs": [
    {
     "name": "stderr",
     "output_type": "stream",
     "text": [
      "/tmp/ipykernel_112534/1973952963.py:5: FutureWarning: In a future version of pandas, parsing datetimes with mixed time zones will raise an error unless `utc=True`. Please specify `utc=True` to opt in to the new behaviour and silence this warning. To create a `Series` with mixed offsets and `object` dtype, please use `apply` and `datetime.datetime.strptime`\n",
      "  df['datetime'] = pd.to_datetime(df['datetime'])\n"
     ]
    },
    {
     "name": "stdout",
     "output_type": "stream",
     "text": [
      "There are duplicates in the datetime column\n",
      "Missing timestamps: DatetimeIndex(['2024-09-27 03:00:00+01:00', '2024-09-27 03:15:00+01:00',\n",
      "               '2024-09-27 03:30:00+01:00', '2024-09-27 03:45:00+01:00'],\n",
      "              dtype='datetime64[ns, UTC+01:00]', freq='15min')\n"
     ]
    }
   ],
   "source": [
    "file_csv_path = '/home/kehan-vm/Projects/interesting/power_market_analysis/power_market_analysis/data/raw/day_ahead/DA price 15min 2024.csv'\n",
    "df = pd.read_csv(file_csv_path)\n",
    "df = df.iloc[1:]\n",
    "df = df.rename(columns={'Datum (MEZ)': 'datetime', 'Day Ahead Auktion EXAA (DE-LU)': 'da_price'})\n",
    "df['datetime'] = pd.to_datetime(df['datetime'])\n",
    "df['da_price'] = pd.to_numeric(df['da_price'], errors='coerce')\n",
    "\n",
    "# check if nan values are present, if so, fill with linear interpolation\n",
    "if df['da_price'].isna().any():\n",
    "    df = df.interpolate(method='linear')\n",
    "\n",
    "# check if there are any duplicates\n",
    "if df['datetime'].duplicated().any():\n",
    "    print('There are duplicates in the datetime column')\n",
    "    # Show all rows that have duplicate datetime values\n",
    "    # duplicate_rows = df[df['datetime'].duplicated(keep=False)].sort_values('datetime')\n",
    "    # print(\"\\nRows with duplicate datetimes:\")\n",
    "    # print(duplicate_rows)\n",
    "    # Remove duplicates while preserving the first occurrence\n",
    "    df = df.drop_duplicates(subset='datetime', keep='first')\n",
    "else:\n",
    "    print('There are no duplicates in the datetime column')\n",
    "# check missing timestamps\n",
    "complete_timestamps = pd.date_range(start=df['datetime'].min(), end=df['datetime'].max(), freq='15min')\n",
    "missing_timestamps = check_missing_timestamps(df, '15min')\n",
    "if len(missing_timestamps) > 0:\n",
    "    # add missing timestamps to df, keep the other existing values and fill with linear interpolation\n",
    "    # Set index and reindex with the complete range\n",
    "    df = df.set_index('datetime')\n",
    "    df = df.reindex(complete_timestamps)\n",
    "    df = df.interpolate(method='linear')\n",
    "    df = df.reset_index().rename(columns={'index': 'datetime'})\n",
    "    df['datetime'] = df['datetime'].dt.tz_localize(None)\n",
    "df.to_csv('/home/kehan-vm/Projects/interesting/power_market_analysis/power_market_analysis/data/processed/day_ahead/da_price_2024.csv', index=False)\n"
   ]
  },
  {
   "cell_type": "code",
   "execution_count": 40,
   "metadata": {},
   "outputs": [
    {
     "data": {
      "text/html": [
       "<div>\n",
       "<style scoped>\n",
       "    .dataframe tbody tr th:only-of-type {\n",
       "        vertical-align: middle;\n",
       "    }\n",
       "\n",
       "    .dataframe tbody tr th {\n",
       "        vertical-align: top;\n",
       "    }\n",
       "\n",
       "    .dataframe thead th {\n",
       "        text-align: right;\n",
       "    }\n",
       "</style>\n",
       "<table border=\"1\" class=\"dataframe\">\n",
       "  <thead>\n",
       "    <tr style=\"text-align: right;\">\n",
       "      <th></th>\n",
       "      <th>datetime</th>\n",
       "      <th>da_price</th>\n",
       "    </tr>\n",
       "  </thead>\n",
       "  <tbody>\n",
       "    <tr>\n",
       "      <th>0</th>\n",
       "      <td>2024-01-01 00:00:00</td>\n",
       "      <td>39.91</td>\n",
       "    </tr>\n",
       "    <tr>\n",
       "      <th>1</th>\n",
       "      <td>2024-01-01 00:15:00</td>\n",
       "      <td>-0.04</td>\n",
       "    </tr>\n",
       "    <tr>\n",
       "      <th>2</th>\n",
       "      <td>2024-01-01 00:30:00</td>\n",
       "      <td>-9.01</td>\n",
       "    </tr>\n",
       "    <tr>\n",
       "      <th>3</th>\n",
       "      <td>2024-01-01 00:45:00</td>\n",
       "      <td>-29.91</td>\n",
       "    </tr>\n",
       "    <tr>\n",
       "      <th>4</th>\n",
       "      <td>2024-01-01 01:00:00</td>\n",
       "      <td>25.28</td>\n",
       "    </tr>\n",
       "  </tbody>\n",
       "</table>\n",
       "</div>"
      ],
      "text/plain": [
       "             datetime  da_price\n",
       "0 2024-01-01 00:00:00     39.91\n",
       "1 2024-01-01 00:15:00     -0.04\n",
       "2 2024-01-01 00:30:00     -9.01\n",
       "3 2024-01-01 00:45:00    -29.91\n",
       "4 2024-01-01 01:00:00     25.28"
      ]
     },
     "execution_count": 40,
     "metadata": {},
     "output_type": "execute_result"
    }
   ],
   "source": [
    "df.head()"
   ]
  },
  {
   "cell_type": "code",
   "execution_count": 32,
   "metadata": {},
   "outputs": [
    {
     "name": "stdout",
     "output_type": "stream",
     "text": [
      "Missing timestamps: DatetimeIndex([], dtype='datetime64[ns, UTC+01:00]', freq='15min')\n"
     ]
    },
    {
     "data": {
      "text/plain": [
       "DatetimeIndex([], dtype='datetime64[ns, UTC+01:00]', freq='15min')"
      ]
     },
     "execution_count": 32,
     "metadata": {},
     "output_type": "execute_result"
    }
   ],
   "source": [
    "check_missing_timestamps(df, '15min')"
   ]
  },
  {
   "cell_type": "code",
   "execution_count": null,
   "metadata": {},
   "outputs": [],
   "source": []
  }
 ],
 "metadata": {
  "kernelspec": {
   "display_name": "myenv",
   "language": "python",
   "name": "python3"
  },
  "language_info": {
   "codemirror_mode": {
    "name": "ipython",
    "version": 3
   },
   "file_extension": ".py",
   "mimetype": "text/x-python",
   "name": "python",
   "nbconvert_exporter": "python",
   "pygments_lexer": "ipython3",
   "version": "3.12.10"
  }
 },
 "nbformat": 4,
 "nbformat_minor": 2
}
